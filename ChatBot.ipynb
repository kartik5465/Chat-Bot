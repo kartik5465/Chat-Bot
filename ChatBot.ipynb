{
  "nbformat": 4,
  "nbformat_minor": 0,
  "metadata": {
    "colab": {
      "provenance": []
    },
    "kernelspec": {
      "name": "python3",
      "display_name": "Python 3"
    },
    "language_info": {
      "name": "python"
    }
  },
  "cells": [
    {
      "cell_type": "code",
      "source": [
        "from google.colab import drive\n",
        "drive.mount('/content/drive')"
      ],
      "metadata": {
        "colab": {
          "base_uri": "https://localhost:8080/"
        },
        "id": "IIwOM_z7WOcE",
        "outputId": "753e3668-f9e4-46b7-c2d0-881e065985c6"
      },
      "execution_count": null,
      "outputs": [
        {
          "output_type": "stream",
          "name": "stdout",
          "text": [
            "Mounted at /content/drive\n"
          ]
        }
      ]
    },
    {
      "cell_type": "code",
      "source": [
        "cd drive/MyDrive/"
      ],
      "metadata": {
        "colab": {
          "base_uri": "https://localhost:8080/"
        },
        "id": "SCLsibIdzEki",
        "outputId": "f1e01b34-23ef-4745-cfbb-d3895317432c"
      },
      "execution_count": null,
      "outputs": [
        {
          "output_type": "stream",
          "name": "stdout",
          "text": [
            "[Errno 2] No such file or directory: 'drive/MyDrive/'\n",
            "/content/drive/MyDrive\n"
          ]
        }
      ]
    },
    {
      "cell_type": "code",
      "source": [
        "!pip install tflearn"
      ],
      "metadata": {
        "colab": {
          "base_uri": "https://localhost:8080/"
        },
        "id": "SoGPLEaEzErY",
        "outputId": "6e6a1dcf-ff11-4eca-c8b8-91badf675b07"
      },
      "execution_count": null,
      "outputs": [
        {
          "output_type": "stream",
          "name": "stdout",
          "text": [
            "Requirement already satisfied: tflearn in /usr/local/lib/python3.7/dist-packages (0.5.0)\n",
            "Requirement already satisfied: numpy in /usr/local/lib/python3.7/dist-packages (from tflearn) (1.21.5)\n",
            "Requirement already satisfied: six in /usr/local/lib/python3.7/dist-packages (from tflearn) (1.15.0)\n",
            "Requirement already satisfied: Pillow in /usr/local/lib/python3.7/dist-packages (from tflearn) (7.1.2)\n"
          ]
        }
      ]
    },
    {
      "cell_type": "code",
      "source": [
        "import nltk\n",
        "from nltk.stem.lancaster import LancasterStemmer\n",
        "import numpy\n",
        "import tflearn\n",
        "import tensorflow\n",
        "import random\n",
        "import json\n",
        "import pickle\n",
        "from textblob import TextBlob"
      ],
      "metadata": {
        "id": "HUcCssQtzEwg"
      },
      "execution_count": null,
      "outputs": []
    },
    {
      "cell_type": "code",
      "source": [
        "nltk.download('punkt')"
      ],
      "metadata": {
        "colab": {
          "base_uri": "https://localhost:8080/"
        },
        "id": "2QyWQWRYzE4G",
        "outputId": "2903fc12-5c59-49c4-bd62-2d1670f77c54"
      },
      "execution_count": null,
      "outputs": [
        {
          "output_type": "stream",
          "name": "stdout",
          "text": [
            "[nltk_data] Downloading package punkt to /root/nltk_data...\n",
            "[nltk_data]   Package punkt is already up-to-date!\n"
          ]
        },
        {
          "output_type": "execute_result",
          "data": {
            "text/plain": [
              "True"
            ]
          },
          "metadata": {},
          "execution_count": 45
        }
      ]
    },
    {
      "cell_type": "code",
      "source": [
        "stemmer = LancasterStemmer()"
      ],
      "metadata": {
        "id": "wr_237VTzoUQ"
      },
      "execution_count": null,
      "outputs": []
    },
    {
      "cell_type": "code",
      "source": [
        "words = []\n",
        "labels = []\n",
        "docs_x = []\n",
        "docs_y = []"
      ],
      "metadata": {
        "id": "ftZ20CE0z4Q8"
      },
      "execution_count": null,
      "outputs": []
    },
    {
      "cell_type": "code",
      "source": [
        "with open(\"tech support intent.json\") as file:\n",
        "    data = json.load(file)"
      ],
      "metadata": {
        "id": "nMP8Fdao0sBB"
      },
      "execution_count": null,
      "outputs": []
    },
    {
      "cell_type": "code",
      "source": [
        "for intent in data[\"intents\"]:\n",
        "    for pattern in intent[\"patterns\"]:\n",
        "        wrds = nltk.word_tokenize(pattern)\n",
        "        words.extend(wrds)\n",
        "        docs_x.append(wrds)\n",
        "        docs_y.append(intent[\"tag\"])\n",
        "    print(f'docs_x: {docs_x}, docs_y: {docs_y}, Words: {words}')\n",
        "\n",
        "\n",
        "    if intent[\"tag\"] not in labels:\n",
        "        labels.append(intent[\"tag\"])\n",
        "    print(f'labels: {labels}')\n",
        "    \n",
        "#words = [stemmer.stem(w.lower()) for w in words if w != \"?\"]\n",
        "words = sorted(list(set(words)))\n",
        "labels = sorted(labels)\n",
        "training = []\n",
        "output = []\n",
        "out_empty = [0 for _ in range(len(labels))]"
      ],
      "metadata": {
        "colab": {
          "base_uri": "https://localhost:8080/"
        },
        "id": "nielJc_PzoX3",
        "outputId": "706a5149-d2a6-45dc-bdc1-7e37bed76d62"
      },
      "execution_count": null,
      "outputs": [
        {
          "output_type": "stream",
          "name": "stdout",
          "text": [
            "docs_x: [['Hi'], ['How', 'are', 'you'], ['Is', 'anyone', 'there', '?'], ['Hello'], ['Good', 'day']], docs_y: ['greeting', 'greeting', 'greeting', 'greeting', 'greeting'], Words: ['Hi', 'How', 'are', 'you', 'Is', 'anyone', 'there', '?', 'Hello', 'Good', 'day']\n",
            "labels: ['greeting']\n",
            "docs_x: [['Hi'], ['How', 'are', 'you'], ['Is', 'anyone', 'there', '?'], ['Hello'], ['Good', 'day'], ['Bye'], ['See', 'you', 'later'], ['Goodbye']], docs_y: ['greeting', 'greeting', 'greeting', 'greeting', 'greeting', 'goodbye', 'goodbye', 'goodbye'], Words: ['Hi', 'How', 'are', 'you', 'Is', 'anyone', 'there', '?', 'Hello', 'Good', 'day', 'Bye', 'See', 'you', 'later', 'Goodbye']\n",
            "labels: ['greeting', 'goodbye']\n",
            "docs_x: [['Hi'], ['How', 'are', 'you'], ['Is', 'anyone', 'there', '?'], ['Hello'], ['Good', 'day'], ['Bye'], ['See', 'you', 'later'], ['Goodbye'], ['Thanks'], ['Thank', 'you'], ['That', \"'s\", 'helpful']], docs_y: ['greeting', 'greeting', 'greeting', 'greeting', 'greeting', 'goodbye', 'goodbye', 'goodbye', 'thanks', 'thanks', 'thanks'], Words: ['Hi', 'How', 'are', 'you', 'Is', 'anyone', 'there', '?', 'Hello', 'Good', 'day', 'Bye', 'See', 'you', 'later', 'Goodbye', 'Thanks', 'Thank', 'you', 'That', \"'s\", 'helpful']\n",
            "labels: ['greeting', 'goodbye', 'thanks']\n",
            "docs_x: [['Hi'], ['How', 'are', 'you'], ['Is', 'anyone', 'there', '?'], ['Hello'], ['Good', 'day'], ['Bye'], ['See', 'you', 'later'], ['Goodbye'], ['Thanks'], ['Thank', 'you'], ['That', \"'s\", 'helpful'], ['My', 'Laptop', 'is', 'running', 'slow'], ['My', 'programs', 'are', 'taking', 'time', 'to', 'load'], ['Boot', 'speed', 'is', 'very', 'slow']], docs_y: ['greeting', 'greeting', 'greeting', 'greeting', 'greeting', 'goodbye', 'goodbye', 'goodbye', 'thanks', 'thanks', 'thanks', 'laptop running slow', 'laptop running slow', 'laptop running slow'], Words: ['Hi', 'How', 'are', 'you', 'Is', 'anyone', 'there', '?', 'Hello', 'Good', 'day', 'Bye', 'See', 'you', 'later', 'Goodbye', 'Thanks', 'Thank', 'you', 'That', \"'s\", 'helpful', 'My', 'Laptop', 'is', 'running', 'slow', 'My', 'programs', 'are', 'taking', 'time', 'to', 'load', 'Boot', 'speed', 'is', 'very', 'slow']\n",
            "labels: ['greeting', 'goodbye', 'thanks', 'laptop running slow']\n",
            "docs_x: [['Hi'], ['How', 'are', 'you'], ['Is', 'anyone', 'there', '?'], ['Hello'], ['Good', 'day'], ['Bye'], ['See', 'you', 'later'], ['Goodbye'], ['Thanks'], ['Thank', 'you'], ['That', \"'s\", 'helpful'], ['My', 'Laptop', 'is', 'running', 'slow'], ['My', 'programs', 'are', 'taking', 'time', 'to', 'load'], ['Boot', 'speed', 'is', 'very', 'slow'], ['I', 'feel', 'like', 'my', 'laptop', 'is', 'warming', 'up', 'fast'], ['laptop', 'is', 'hot', 'while', 'gaming'], ['laptop', 'fans', 'are', 'making', 'noise', 'when', 'hot']], docs_y: ['greeting', 'greeting', 'greeting', 'greeting', 'greeting', 'goodbye', 'goodbye', 'goodbye', 'thanks', 'thanks', 'thanks', 'laptop running slow', 'laptop running slow', 'laptop running slow', 'Laptop is running hot', 'Laptop is running hot', 'Laptop is running hot'], Words: ['Hi', 'How', 'are', 'you', 'Is', 'anyone', 'there', '?', 'Hello', 'Good', 'day', 'Bye', 'See', 'you', 'later', 'Goodbye', 'Thanks', 'Thank', 'you', 'That', \"'s\", 'helpful', 'My', 'Laptop', 'is', 'running', 'slow', 'My', 'programs', 'are', 'taking', 'time', 'to', 'load', 'Boot', 'speed', 'is', 'very', 'slow', 'I', 'feel', 'like', 'my', 'laptop', 'is', 'warming', 'up', 'fast', 'laptop', 'is', 'hot', 'while', 'gaming', 'laptop', 'fans', 'are', 'making', 'noise', 'when', 'hot']\n",
            "labels: ['greeting', 'goodbye', 'thanks', 'laptop running slow', 'Laptop is running hot']\n",
            "docs_x: [['Hi'], ['How', 'are', 'you'], ['Is', 'anyone', 'there', '?'], ['Hello'], ['Good', 'day'], ['Bye'], ['See', 'you', 'later'], ['Goodbye'], ['Thanks'], ['Thank', 'you'], ['That', \"'s\", 'helpful'], ['My', 'Laptop', 'is', 'running', 'slow'], ['My', 'programs', 'are', 'taking', 'time', 'to', 'load'], ['Boot', 'speed', 'is', 'very', 'slow'], ['I', 'feel', 'like', 'my', 'laptop', 'is', 'warming', 'up', 'fast'], ['laptop', 'is', 'hot', 'while', 'gaming'], ['laptop', 'fans', 'are', 'making', 'noise', 'when', 'hot'], ['Do', 'you', 'take', 'credit', 'cards', '?'], ['Do', 'you', 'accept', 'Mastercard', '?'], ['Are', 'you', 'cash', 'only', '?']], docs_y: ['greeting', 'greeting', 'greeting', 'greeting', 'greeting', 'goodbye', 'goodbye', 'goodbye', 'thanks', 'thanks', 'thanks', 'laptop running slow', 'laptop running slow', 'laptop running slow', 'Laptop is running hot', 'Laptop is running hot', 'Laptop is running hot', 'payments', 'payments', 'payments'], Words: ['Hi', 'How', 'are', 'you', 'Is', 'anyone', 'there', '?', 'Hello', 'Good', 'day', 'Bye', 'See', 'you', 'later', 'Goodbye', 'Thanks', 'Thank', 'you', 'That', \"'s\", 'helpful', 'My', 'Laptop', 'is', 'running', 'slow', 'My', 'programs', 'are', 'taking', 'time', 'to', 'load', 'Boot', 'speed', 'is', 'very', 'slow', 'I', 'feel', 'like', 'my', 'laptop', 'is', 'warming', 'up', 'fast', 'laptop', 'is', 'hot', 'while', 'gaming', 'laptop', 'fans', 'are', 'making', 'noise', 'when', 'hot', 'Do', 'you', 'take', 'credit', 'cards', '?', 'Do', 'you', 'accept', 'Mastercard', '?', 'Are', 'you', 'cash', 'only', '?']\n",
            "labels: ['greeting', 'goodbye', 'thanks', 'laptop running slow', 'Laptop is running hot', 'payments']\n",
            "docs_x: [['Hi'], ['How', 'are', 'you'], ['Is', 'anyone', 'there', '?'], ['Hello'], ['Good', 'day'], ['Bye'], ['See', 'you', 'later'], ['Goodbye'], ['Thanks'], ['Thank', 'you'], ['That', \"'s\", 'helpful'], ['My', 'Laptop', 'is', 'running', 'slow'], ['My', 'programs', 'are', 'taking', 'time', 'to', 'load'], ['Boot', 'speed', 'is', 'very', 'slow'], ['I', 'feel', 'like', 'my', 'laptop', 'is', 'warming', 'up', 'fast'], ['laptop', 'is', 'hot', 'while', 'gaming'], ['laptop', 'fans', 'are', 'making', 'noise', 'when', 'hot'], ['Do', 'you', 'take', 'credit', 'cards', '?'], ['Do', 'you', 'accept', 'Mastercard', '?'], ['Are', 'you', 'cash', 'only', '?'], ['I', 'cant', 'watch', 'videos', 'due', 'to', 'slow', 'internet', 'on', 'laptop'], ['My', 'downloads', 'are', 'very', 'slow'], ['How', 'can', 'i', 'speed', 'up', 'my', 'downloading', 'speed', '?']], docs_y: ['greeting', 'greeting', 'greeting', 'greeting', 'greeting', 'goodbye', 'goodbye', 'goodbye', 'thanks', 'thanks', 'thanks', 'laptop running slow', 'laptop running slow', 'laptop running slow', 'Laptop is running hot', 'Laptop is running hot', 'Laptop is running hot', 'payments', 'payments', 'payments', 'laptop internet is slow', 'laptop internet is slow', 'laptop internet is slow'], Words: ['Hi', 'How', 'are', 'you', 'Is', 'anyone', 'there', '?', 'Hello', 'Good', 'day', 'Bye', 'See', 'you', 'later', 'Goodbye', 'Thanks', 'Thank', 'you', 'That', \"'s\", 'helpful', 'My', 'Laptop', 'is', 'running', 'slow', 'My', 'programs', 'are', 'taking', 'time', 'to', 'load', 'Boot', 'speed', 'is', 'very', 'slow', 'I', 'feel', 'like', 'my', 'laptop', 'is', 'warming', 'up', 'fast', 'laptop', 'is', 'hot', 'while', 'gaming', 'laptop', 'fans', 'are', 'making', 'noise', 'when', 'hot', 'Do', 'you', 'take', 'credit', 'cards', '?', 'Do', 'you', 'accept', 'Mastercard', '?', 'Are', 'you', 'cash', 'only', '?', 'I', 'cant', 'watch', 'videos', 'due', 'to', 'slow', 'internet', 'on', 'laptop', 'My', 'downloads', 'are', 'very', 'slow', 'How', 'can', 'i', 'speed', 'up', 'my', 'downloading', 'speed', '?']\n",
            "labels: ['greeting', 'goodbye', 'thanks', 'laptop running slow', 'Laptop is running hot', 'payments', 'laptop internet is slow']\n",
            "docs_x: [['Hi'], ['How', 'are', 'you'], ['Is', 'anyone', 'there', '?'], ['Hello'], ['Good', 'day'], ['Bye'], ['See', 'you', 'later'], ['Goodbye'], ['Thanks'], ['Thank', 'you'], ['That', \"'s\", 'helpful'], ['My', 'Laptop', 'is', 'running', 'slow'], ['My', 'programs', 'are', 'taking', 'time', 'to', 'load'], ['Boot', 'speed', 'is', 'very', 'slow'], ['I', 'feel', 'like', 'my', 'laptop', 'is', 'warming', 'up', 'fast'], ['laptop', 'is', 'hot', 'while', 'gaming'], ['laptop', 'fans', 'are', 'making', 'noise', 'when', 'hot'], ['Do', 'you', 'take', 'credit', 'cards', '?'], ['Do', 'you', 'accept', 'Mastercard', '?'], ['Are', 'you', 'cash', 'only', '?'], ['I', 'cant', 'watch', 'videos', 'due', 'to', 'slow', 'internet', 'on', 'laptop'], ['My', 'downloads', 'are', 'very', 'slow'], ['How', 'can', 'i', 'speed', 'up', 'my', 'downloading', 'speed', '?'], ['I', 'want', 'to', 'free', 'up', 'storage'], ['How', 'can', 'i', 'increase', 'my', 'storage'], []], docs_y: ['greeting', 'greeting', 'greeting', 'greeting', 'greeting', 'goodbye', 'goodbye', 'goodbye', 'thanks', 'thanks', 'thanks', 'laptop running slow', 'laptop running slow', 'laptop running slow', 'Laptop is running hot', 'Laptop is running hot', 'Laptop is running hot', 'payments', 'payments', 'payments', 'laptop internet is slow', 'laptop internet is slow', 'laptop internet is slow', 'Low storage', 'Low storage', 'Low storage'], Words: ['Hi', 'How', 'are', 'you', 'Is', 'anyone', 'there', '?', 'Hello', 'Good', 'day', 'Bye', 'See', 'you', 'later', 'Goodbye', 'Thanks', 'Thank', 'you', 'That', \"'s\", 'helpful', 'My', 'Laptop', 'is', 'running', 'slow', 'My', 'programs', 'are', 'taking', 'time', 'to', 'load', 'Boot', 'speed', 'is', 'very', 'slow', 'I', 'feel', 'like', 'my', 'laptop', 'is', 'warming', 'up', 'fast', 'laptop', 'is', 'hot', 'while', 'gaming', 'laptop', 'fans', 'are', 'making', 'noise', 'when', 'hot', 'Do', 'you', 'take', 'credit', 'cards', '?', 'Do', 'you', 'accept', 'Mastercard', '?', 'Are', 'you', 'cash', 'only', '?', 'I', 'cant', 'watch', 'videos', 'due', 'to', 'slow', 'internet', 'on', 'laptop', 'My', 'downloads', 'are', 'very', 'slow', 'How', 'can', 'i', 'speed', 'up', 'my', 'downloading', 'speed', '?', 'I', 'want', 'to', 'free', 'up', 'storage', 'How', 'can', 'i', 'increase', 'my', 'storage']\n",
            "labels: ['greeting', 'goodbye', 'thanks', 'laptop running slow', 'Laptop is running hot', 'payments', 'laptop internet is slow', 'Low storage']\n",
            "docs_x: [['Hi'], ['How', 'are', 'you'], ['Is', 'anyone', 'there', '?'], ['Hello'], ['Good', 'day'], ['Bye'], ['See', 'you', 'later'], ['Goodbye'], ['Thanks'], ['Thank', 'you'], ['That', \"'s\", 'helpful'], ['My', 'Laptop', 'is', 'running', 'slow'], ['My', 'programs', 'are', 'taking', 'time', 'to', 'load'], ['Boot', 'speed', 'is', 'very', 'slow'], ['I', 'feel', 'like', 'my', 'laptop', 'is', 'warming', 'up', 'fast'], ['laptop', 'is', 'hot', 'while', 'gaming'], ['laptop', 'fans', 'are', 'making', 'noise', 'when', 'hot'], ['Do', 'you', 'take', 'credit', 'cards', '?'], ['Do', 'you', 'accept', 'Mastercard', '?'], ['Are', 'you', 'cash', 'only', '?'], ['I', 'cant', 'watch', 'videos', 'due', 'to', 'slow', 'internet', 'on', 'laptop'], ['My', 'downloads', 'are', 'very', 'slow'], ['How', 'can', 'i', 'speed', 'up', 'my', 'downloading', 'speed', '?'], ['I', 'want', 'to', 'free', 'up', 'storage'], ['How', 'can', 'i', 'increase', 'my', 'storage'], [], ['My', 'laptop', 'has', 'suffered', 'some', 'scratches'], ['My', 'display', 'looks', 'wierd'], ['can', 'anything', 'be', 'done', 'for', 'physical', 'damages', 'sustained', 'to', 'laptop']], docs_y: ['greeting', 'greeting', 'greeting', 'greeting', 'greeting', 'goodbye', 'goodbye', 'goodbye', 'thanks', 'thanks', 'thanks', 'laptop running slow', 'laptop running slow', 'laptop running slow', 'Laptop is running hot', 'Laptop is running hot', 'Laptop is running hot', 'payments', 'payments', 'payments', 'laptop internet is slow', 'laptop internet is slow', 'laptop internet is slow', 'Low storage', 'Low storage', 'Low storage', 'Physical damage', 'Physical damage', 'Physical damage'], Words: ['Hi', 'How', 'are', 'you', 'Is', 'anyone', 'there', '?', 'Hello', 'Good', 'day', 'Bye', 'See', 'you', 'later', 'Goodbye', 'Thanks', 'Thank', 'you', 'That', \"'s\", 'helpful', 'My', 'Laptop', 'is', 'running', 'slow', 'My', 'programs', 'are', 'taking', 'time', 'to', 'load', 'Boot', 'speed', 'is', 'very', 'slow', 'I', 'feel', 'like', 'my', 'laptop', 'is', 'warming', 'up', 'fast', 'laptop', 'is', 'hot', 'while', 'gaming', 'laptop', 'fans', 'are', 'making', 'noise', 'when', 'hot', 'Do', 'you', 'take', 'credit', 'cards', '?', 'Do', 'you', 'accept', 'Mastercard', '?', 'Are', 'you', 'cash', 'only', '?', 'I', 'cant', 'watch', 'videos', 'due', 'to', 'slow', 'internet', 'on', 'laptop', 'My', 'downloads', 'are', 'very', 'slow', 'How', 'can', 'i', 'speed', 'up', 'my', 'downloading', 'speed', '?', 'I', 'want', 'to', 'free', 'up', 'storage', 'How', 'can', 'i', 'increase', 'my', 'storage', 'My', 'laptop', 'has', 'suffered', 'some', 'scratches', 'My', 'display', 'looks', 'wierd', 'can', 'anything', 'be', 'done', 'for', 'physical', 'damages', 'sustained', 'to', 'laptop']\n",
            "labels: ['greeting', 'goodbye', 'thanks', 'laptop running slow', 'Laptop is running hot', 'payments', 'laptop internet is slow', 'Low storage', 'Physical damage']\n",
            "docs_x: [['Hi'], ['How', 'are', 'you'], ['Is', 'anyone', 'there', '?'], ['Hello'], ['Good', 'day'], ['Bye'], ['See', 'you', 'later'], ['Goodbye'], ['Thanks'], ['Thank', 'you'], ['That', \"'s\", 'helpful'], ['My', 'Laptop', 'is', 'running', 'slow'], ['My', 'programs', 'are', 'taking', 'time', 'to', 'load'], ['Boot', 'speed', 'is', 'very', 'slow'], ['I', 'feel', 'like', 'my', 'laptop', 'is', 'warming', 'up', 'fast'], ['laptop', 'is', 'hot', 'while', 'gaming'], ['laptop', 'fans', 'are', 'making', 'noise', 'when', 'hot'], ['Do', 'you', 'take', 'credit', 'cards', '?'], ['Do', 'you', 'accept', 'Mastercard', '?'], ['Are', 'you', 'cash', 'only', '?'], ['I', 'cant', 'watch', 'videos', 'due', 'to', 'slow', 'internet', 'on', 'laptop'], ['My', 'downloads', 'are', 'very', 'slow'], ['How', 'can', 'i', 'speed', 'up', 'my', 'downloading', 'speed', '?'], ['I', 'want', 'to', 'free', 'up', 'storage'], ['How', 'can', 'i', 'increase', 'my', 'storage'], [], ['My', 'laptop', 'has', 'suffered', 'some', 'scratches'], ['My', 'display', 'looks', 'wierd'], ['can', 'anything', 'be', 'done', 'for', 'physical', 'damages', 'sustained', 'to', 'laptop'], ['What', 'all', 'should', 'i', 'consider', 'to', 'upgrade', 'in', 'laptop'], ['is', 'there', 'any', 'new', 'stuff', 'i', 'should', 'add', 'in', 'laptop', '?']], docs_y: ['greeting', 'greeting', 'greeting', 'greeting', 'greeting', 'goodbye', 'goodbye', 'goodbye', 'thanks', 'thanks', 'thanks', 'laptop running slow', 'laptop running slow', 'laptop running slow', 'Laptop is running hot', 'Laptop is running hot', 'Laptop is running hot', 'payments', 'payments', 'payments', 'laptop internet is slow', 'laptop internet is slow', 'laptop internet is slow', 'Low storage', 'Low storage', 'Low storage', 'Physical damage', 'Physical damage', 'Physical damage', 'Parts upgrade', 'Parts upgrade'], Words: ['Hi', 'How', 'are', 'you', 'Is', 'anyone', 'there', '?', 'Hello', 'Good', 'day', 'Bye', 'See', 'you', 'later', 'Goodbye', 'Thanks', 'Thank', 'you', 'That', \"'s\", 'helpful', 'My', 'Laptop', 'is', 'running', 'slow', 'My', 'programs', 'are', 'taking', 'time', 'to', 'load', 'Boot', 'speed', 'is', 'very', 'slow', 'I', 'feel', 'like', 'my', 'laptop', 'is', 'warming', 'up', 'fast', 'laptop', 'is', 'hot', 'while', 'gaming', 'laptop', 'fans', 'are', 'making', 'noise', 'when', 'hot', 'Do', 'you', 'take', 'credit', 'cards', '?', 'Do', 'you', 'accept', 'Mastercard', '?', 'Are', 'you', 'cash', 'only', '?', 'I', 'cant', 'watch', 'videos', 'due', 'to', 'slow', 'internet', 'on', 'laptop', 'My', 'downloads', 'are', 'very', 'slow', 'How', 'can', 'i', 'speed', 'up', 'my', 'downloading', 'speed', '?', 'I', 'want', 'to', 'free', 'up', 'storage', 'How', 'can', 'i', 'increase', 'my', 'storage', 'My', 'laptop', 'has', 'suffered', 'some', 'scratches', 'My', 'display', 'looks', 'wierd', 'can', 'anything', 'be', 'done', 'for', 'physical', 'damages', 'sustained', 'to', 'laptop', 'What', 'all', 'should', 'i', 'consider', 'to', 'upgrade', 'in', 'laptop', 'is', 'there', 'any', 'new', 'stuff', 'i', 'should', 'add', 'in', 'laptop', '?']\n",
            "labels: ['greeting', 'goodbye', 'thanks', 'laptop running slow', 'Laptop is running hot', 'payments', 'laptop internet is slow', 'Low storage', 'Physical damage', 'Parts upgrade']\n",
            "docs_x: [['Hi'], ['How', 'are', 'you'], ['Is', 'anyone', 'there', '?'], ['Hello'], ['Good', 'day'], ['Bye'], ['See', 'you', 'later'], ['Goodbye'], ['Thanks'], ['Thank', 'you'], ['That', \"'s\", 'helpful'], ['My', 'Laptop', 'is', 'running', 'slow'], ['My', 'programs', 'are', 'taking', 'time', 'to', 'load'], ['Boot', 'speed', 'is', 'very', 'slow'], ['I', 'feel', 'like', 'my', 'laptop', 'is', 'warming', 'up', 'fast'], ['laptop', 'is', 'hot', 'while', 'gaming'], ['laptop', 'fans', 'are', 'making', 'noise', 'when', 'hot'], ['Do', 'you', 'take', 'credit', 'cards', '?'], ['Do', 'you', 'accept', 'Mastercard', '?'], ['Are', 'you', 'cash', 'only', '?'], ['I', 'cant', 'watch', 'videos', 'due', 'to', 'slow', 'internet', 'on', 'laptop'], ['My', 'downloads', 'are', 'very', 'slow'], ['How', 'can', 'i', 'speed', 'up', 'my', 'downloading', 'speed', '?'], ['I', 'want', 'to', 'free', 'up', 'storage'], ['How', 'can', 'i', 'increase', 'my', 'storage'], [], ['My', 'laptop', 'has', 'suffered', 'some', 'scratches'], ['My', 'display', 'looks', 'wierd'], ['can', 'anything', 'be', 'done', 'for', 'physical', 'damages', 'sustained', 'to', 'laptop'], ['What', 'all', 'should', 'i', 'consider', 'to', 'upgrade', 'in', 'laptop'], ['is', 'there', 'any', 'new', 'stuff', 'i', 'should', 'add', 'in', 'laptop', '?'], ['Bad', 'service'], ['Worst', 'service', 'ever', 'experenced'], ['delayed', 'support'], ['shit', 'service']], docs_y: ['greeting', 'greeting', 'greeting', 'greeting', 'greeting', 'goodbye', 'goodbye', 'goodbye', 'thanks', 'thanks', 'thanks', 'laptop running slow', 'laptop running slow', 'laptop running slow', 'Laptop is running hot', 'Laptop is running hot', 'Laptop is running hot', 'payments', 'payments', 'payments', 'laptop internet is slow', 'laptop internet is slow', 'laptop internet is slow', 'Low storage', 'Low storage', 'Low storage', 'Physical damage', 'Physical damage', 'Physical damage', 'Parts upgrade', 'Parts upgrade', 'sentiment negative', 'sentiment negative', 'sentiment negative', 'sentiment negative'], Words: ['Hi', 'How', 'are', 'you', 'Is', 'anyone', 'there', '?', 'Hello', 'Good', 'day', 'Bye', 'See', 'you', 'later', 'Goodbye', 'Thanks', 'Thank', 'you', 'That', \"'s\", 'helpful', 'My', 'Laptop', 'is', 'running', 'slow', 'My', 'programs', 'are', 'taking', 'time', 'to', 'load', 'Boot', 'speed', 'is', 'very', 'slow', 'I', 'feel', 'like', 'my', 'laptop', 'is', 'warming', 'up', 'fast', 'laptop', 'is', 'hot', 'while', 'gaming', 'laptop', 'fans', 'are', 'making', 'noise', 'when', 'hot', 'Do', 'you', 'take', 'credit', 'cards', '?', 'Do', 'you', 'accept', 'Mastercard', '?', 'Are', 'you', 'cash', 'only', '?', 'I', 'cant', 'watch', 'videos', 'due', 'to', 'slow', 'internet', 'on', 'laptop', 'My', 'downloads', 'are', 'very', 'slow', 'How', 'can', 'i', 'speed', 'up', 'my', 'downloading', 'speed', '?', 'I', 'want', 'to', 'free', 'up', 'storage', 'How', 'can', 'i', 'increase', 'my', 'storage', 'My', 'laptop', 'has', 'suffered', 'some', 'scratches', 'My', 'display', 'looks', 'wierd', 'can', 'anything', 'be', 'done', 'for', 'physical', 'damages', 'sustained', 'to', 'laptop', 'What', 'all', 'should', 'i', 'consider', 'to', 'upgrade', 'in', 'laptop', 'is', 'there', 'any', 'new', 'stuff', 'i', 'should', 'add', 'in', 'laptop', '?', 'Bad', 'service', 'Worst', 'service', 'ever', 'experenced', 'delayed', 'support', 'shit', 'service']\n",
            "labels: ['greeting', 'goodbye', 'thanks', 'laptop running slow', 'Laptop is running hot', 'payments', 'laptop internet is slow', 'Low storage', 'Physical damage', 'Parts upgrade', 'sentiment negative']\n",
            "docs_x: [['Hi'], ['How', 'are', 'you'], ['Is', 'anyone', 'there', '?'], ['Hello'], ['Good', 'day'], ['Bye'], ['See', 'you', 'later'], ['Goodbye'], ['Thanks'], ['Thank', 'you'], ['That', \"'s\", 'helpful'], ['My', 'Laptop', 'is', 'running', 'slow'], ['My', 'programs', 'are', 'taking', 'time', 'to', 'load'], ['Boot', 'speed', 'is', 'very', 'slow'], ['I', 'feel', 'like', 'my', 'laptop', 'is', 'warming', 'up', 'fast'], ['laptop', 'is', 'hot', 'while', 'gaming'], ['laptop', 'fans', 'are', 'making', 'noise', 'when', 'hot'], ['Do', 'you', 'take', 'credit', 'cards', '?'], ['Do', 'you', 'accept', 'Mastercard', '?'], ['Are', 'you', 'cash', 'only', '?'], ['I', 'cant', 'watch', 'videos', 'due', 'to', 'slow', 'internet', 'on', 'laptop'], ['My', 'downloads', 'are', 'very', 'slow'], ['How', 'can', 'i', 'speed', 'up', 'my', 'downloading', 'speed', '?'], ['I', 'want', 'to', 'free', 'up', 'storage'], ['How', 'can', 'i', 'increase', 'my', 'storage'], [], ['My', 'laptop', 'has', 'suffered', 'some', 'scratches'], ['My', 'display', 'looks', 'wierd'], ['can', 'anything', 'be', 'done', 'for', 'physical', 'damages', 'sustained', 'to', 'laptop'], ['What', 'all', 'should', 'i', 'consider', 'to', 'upgrade', 'in', 'laptop'], ['is', 'there', 'any', 'new', 'stuff', 'i', 'should', 'add', 'in', 'laptop', '?'], ['Bad', 'service'], ['Worst', 'service', 'ever', 'experenced'], ['delayed', 'support'], ['shit', 'service'], ['Good', 'service'], ['solved', 'all', 'my', 'problems'], ['best', 'service'], ['Best', 'customer', 'service'], ['fast', 'support']], docs_y: ['greeting', 'greeting', 'greeting', 'greeting', 'greeting', 'goodbye', 'goodbye', 'goodbye', 'thanks', 'thanks', 'thanks', 'laptop running slow', 'laptop running slow', 'laptop running slow', 'Laptop is running hot', 'Laptop is running hot', 'Laptop is running hot', 'payments', 'payments', 'payments', 'laptop internet is slow', 'laptop internet is slow', 'laptop internet is slow', 'Low storage', 'Low storage', 'Low storage', 'Physical damage', 'Physical damage', 'Physical damage', 'Parts upgrade', 'Parts upgrade', 'sentiment negative', 'sentiment negative', 'sentiment negative', 'sentiment negative', 'sentiment positive', 'sentiment positive', 'sentiment positive', 'sentiment positive', 'sentiment positive'], Words: ['Hi', 'How', 'are', 'you', 'Is', 'anyone', 'there', '?', 'Hello', 'Good', 'day', 'Bye', 'See', 'you', 'later', 'Goodbye', 'Thanks', 'Thank', 'you', 'That', \"'s\", 'helpful', 'My', 'Laptop', 'is', 'running', 'slow', 'My', 'programs', 'are', 'taking', 'time', 'to', 'load', 'Boot', 'speed', 'is', 'very', 'slow', 'I', 'feel', 'like', 'my', 'laptop', 'is', 'warming', 'up', 'fast', 'laptop', 'is', 'hot', 'while', 'gaming', 'laptop', 'fans', 'are', 'making', 'noise', 'when', 'hot', 'Do', 'you', 'take', 'credit', 'cards', '?', 'Do', 'you', 'accept', 'Mastercard', '?', 'Are', 'you', 'cash', 'only', '?', 'I', 'cant', 'watch', 'videos', 'due', 'to', 'slow', 'internet', 'on', 'laptop', 'My', 'downloads', 'are', 'very', 'slow', 'How', 'can', 'i', 'speed', 'up', 'my', 'downloading', 'speed', '?', 'I', 'want', 'to', 'free', 'up', 'storage', 'How', 'can', 'i', 'increase', 'my', 'storage', 'My', 'laptop', 'has', 'suffered', 'some', 'scratches', 'My', 'display', 'looks', 'wierd', 'can', 'anything', 'be', 'done', 'for', 'physical', 'damages', 'sustained', 'to', 'laptop', 'What', 'all', 'should', 'i', 'consider', 'to', 'upgrade', 'in', 'laptop', 'is', 'there', 'any', 'new', 'stuff', 'i', 'should', 'add', 'in', 'laptop', '?', 'Bad', 'service', 'Worst', 'service', 'ever', 'experenced', 'delayed', 'support', 'shit', 'service', 'Good', 'service', 'solved', 'all', 'my', 'problems', 'best', 'service', 'Best', 'customer', 'service', 'fast', 'support']\n",
            "labels: ['greeting', 'goodbye', 'thanks', 'laptop running slow', 'Laptop is running hot', 'payments', 'laptop internet is slow', 'Low storage', 'Physical damage', 'Parts upgrade', 'sentiment negative', 'sentiment positive']\n"
          ]
        }
      ]
    },
    {
      "cell_type": "code",
      "source": [
        "words"
      ],
      "metadata": {
        "colab": {
          "base_uri": "https://localhost:8080/"
        },
        "id": "mmvgspKA02sO",
        "outputId": "9d51240a-dbbf-4c91-c87f-89cab8cb4a14"
      },
      "execution_count": null,
      "outputs": [
        {
          "output_type": "execute_result",
          "data": {
            "text/plain": [
              "[\"'s\",\n",
              " '?',\n",
              " 'Are',\n",
              " 'Bad',\n",
              " 'Best',\n",
              " 'Boot',\n",
              " 'Bye',\n",
              " 'Do',\n",
              " 'Good',\n",
              " 'Goodbye',\n",
              " 'Hello',\n",
              " 'Hi',\n",
              " 'How',\n",
              " 'I',\n",
              " 'Is',\n",
              " 'Laptop',\n",
              " 'Mastercard',\n",
              " 'My',\n",
              " 'See',\n",
              " 'Thank',\n",
              " 'Thanks',\n",
              " 'That',\n",
              " 'What',\n",
              " 'Worst',\n",
              " 'accept',\n",
              " 'add',\n",
              " 'all',\n",
              " 'any',\n",
              " 'anyone',\n",
              " 'anything',\n",
              " 'are',\n",
              " 'be',\n",
              " 'best',\n",
              " 'can',\n",
              " 'cant',\n",
              " 'cards',\n",
              " 'cash',\n",
              " 'consider',\n",
              " 'credit',\n",
              " 'customer',\n",
              " 'damages',\n",
              " 'day',\n",
              " 'delayed',\n",
              " 'display',\n",
              " 'done',\n",
              " 'downloading',\n",
              " 'downloads',\n",
              " 'due',\n",
              " 'ever',\n",
              " 'experenced',\n",
              " 'fans',\n",
              " 'fast',\n",
              " 'feel',\n",
              " 'for',\n",
              " 'free',\n",
              " 'gaming',\n",
              " 'has',\n",
              " 'helpful',\n",
              " 'hot',\n",
              " 'i',\n",
              " 'in',\n",
              " 'increase',\n",
              " 'internet',\n",
              " 'is',\n",
              " 'laptop',\n",
              " 'later',\n",
              " 'like',\n",
              " 'load',\n",
              " 'looks',\n",
              " 'making',\n",
              " 'my',\n",
              " 'new',\n",
              " 'noise',\n",
              " 'on',\n",
              " 'only',\n",
              " 'physical',\n",
              " 'problems',\n",
              " 'programs',\n",
              " 'running',\n",
              " 'scratches',\n",
              " 'service',\n",
              " 'shit',\n",
              " 'should',\n",
              " 'slow',\n",
              " 'solved',\n",
              " 'some',\n",
              " 'speed',\n",
              " 'storage',\n",
              " 'stuff',\n",
              " 'suffered',\n",
              " 'support',\n",
              " 'sustained',\n",
              " 'take',\n",
              " 'taking',\n",
              " 'there',\n",
              " 'time',\n",
              " 'to',\n",
              " 'up',\n",
              " 'upgrade',\n",
              " 'very',\n",
              " 'videos',\n",
              " 'want',\n",
              " 'warming',\n",
              " 'watch',\n",
              " 'when',\n",
              " 'while',\n",
              " 'wierd',\n",
              " 'you']"
            ]
          },
          "metadata": {},
          "execution_count": 50
        }
      ]
    },
    {
      "cell_type": "code",
      "source": [
        "out_empty"
      ],
      "metadata": {
        "colab": {
          "base_uri": "https://localhost:8080/"
        },
        "id": "rkRk7D295Cz8",
        "outputId": "ff597839-1c4c-45c6-ea7b-14ef824e3119"
      },
      "execution_count": null,
      "outputs": [
        {
          "output_type": "execute_result",
          "data": {
            "text/plain": [
              "[0, 0, 0, 0, 0, 0, 0, 0, 0, 0, 0, 0]"
            ]
          },
          "metadata": {},
          "execution_count": 53
        }
      ]
    },
    {
      "cell_type": "code",
      "source": [
        "for x, doc in enumerate(docs_x):\n",
        "  print(f'x : {x}, doc : {doc}')"
      ],
      "metadata": {
        "colab": {
          "base_uri": "https://localhost:8080/"
        },
        "id": "XoC9fSwZJ9tj",
        "outputId": "9a143233-ea34-4141-ed76-f12d0796cc42"
      },
      "execution_count": null,
      "outputs": [
        {
          "output_type": "stream",
          "name": "stdout",
          "text": [
            "x : 0, doc : ['Hi']\n",
            "x : 1, doc : ['How', 'are', 'you']\n",
            "x : 2, doc : ['Is', 'anyone', 'there', '?']\n",
            "x : 3, doc : ['Hello']\n",
            "x : 4, doc : ['Good', 'day']\n",
            "x : 5, doc : ['Bye']\n",
            "x : 6, doc : ['See', 'you', 'later']\n",
            "x : 7, doc : ['Goodbye']\n",
            "x : 8, doc : ['Thanks']\n",
            "x : 9, doc : ['Thank', 'you']\n",
            "x : 10, doc : ['That', \"'s\", 'helpful']\n",
            "x : 11, doc : ['My', 'Laptop', 'is', 'running', 'slow']\n",
            "x : 12, doc : ['My', 'programs', 'are', 'taking', 'time', 'to', 'load']\n",
            "x : 13, doc : ['Boot', 'speed', 'is', 'very', 'slow']\n",
            "x : 14, doc : ['I', 'feel', 'like', 'my', 'laptop', 'is', 'warming', 'up', 'fast']\n",
            "x : 15, doc : ['laptop', 'is', 'hot', 'while', 'gaming']\n",
            "x : 16, doc : ['laptop', 'fans', 'are', 'making', 'noise', 'when', 'hot']\n",
            "x : 17, doc : ['Do', 'you', 'take', 'credit', 'cards', '?']\n",
            "x : 18, doc : ['Do', 'you', 'accept', 'Mastercard', '?']\n",
            "x : 19, doc : ['Are', 'you', 'cash', 'only', '?']\n",
            "x : 20, doc : ['I', 'cant', 'watch', 'videos', 'due', 'to', 'slow', 'internet', 'on', 'laptop']\n",
            "x : 21, doc : ['My', 'downloads', 'are', 'very', 'slow']\n",
            "x : 22, doc : ['How', 'can', 'i', 'speed', 'up', 'my', 'downloading', 'speed', '?']\n",
            "x : 23, doc : ['I', 'want', 'to', 'free', 'up', 'storage']\n",
            "x : 24, doc : ['How', 'can', 'i', 'increase', 'my', 'storage']\n",
            "x : 25, doc : []\n",
            "x : 26, doc : ['My', 'laptop', 'has', 'suffered', 'some', 'scratches']\n",
            "x : 27, doc : ['My', 'display', 'looks', 'wierd']\n",
            "x : 28, doc : ['can', 'anything', 'be', 'done', 'for', 'physical', 'damages', 'sustained', 'to', 'laptop']\n",
            "x : 29, doc : ['What', 'all', 'should', 'i', 'consider', 'to', 'upgrade', 'in', 'laptop']\n",
            "x : 30, doc : ['is', 'there', 'any', 'new', 'stuff', 'i', 'should', 'add', 'in', 'laptop', '?']\n",
            "x : 31, doc : ['Bad', 'service']\n",
            "x : 32, doc : ['Worst', 'service', 'ever', 'experenced']\n",
            "x : 33, doc : ['delayed', 'support']\n",
            "x : 34, doc : ['shit', 'service']\n",
            "x : 35, doc : ['Good', 'service']\n",
            "x : 36, doc : ['solved', 'all', 'my', 'problems']\n",
            "x : 37, doc : ['best', 'service']\n",
            "x : 38, doc : ['Best', 'customer', 'service']\n",
            "x : 39, doc : ['fast', 'support']\n"
          ]
        }
      ]
    },
    {
      "cell_type": "code",
      "source": [
        "orow = out_empty[:]"
      ],
      "metadata": {
        "id": "3yLMDwGELh3D"
      },
      "execution_count": null,
      "outputs": []
    },
    {
      "cell_type": "code",
      "source": [
        "print(orow)"
      ],
      "metadata": {
        "colab": {
          "base_uri": "https://localhost:8080/"
        },
        "id": "6CTK0GPOLk3k",
        "outputId": "60b4fa60-f235-4842-ff03-5f2c7aaaca2b"
      },
      "execution_count": null,
      "outputs": [
        {
          "output_type": "stream",
          "name": "stdout",
          "text": [
            "[0, 0, 0, 0, 0, 0, 0, 0, 0, 0, 0, 0]\n"
          ]
        }
      ]
    },
    {
      "cell_type": "code",
      "source": [
        "for x, doc in enumerate(docs_x):\n",
        "  bag = []\n",
        "  wrds = [stemmer.stem(w.lower()) for w in doc]\n",
        "  for w in words:\n",
        "      if w in wrds:\n",
        "          bag.append(1)\n",
        "      else:\n",
        "          bag.append(0)\n",
        "\n",
        "  output_row = out_empty[:]\n",
        "  output_row[labels.index(docs_y[x])] = 1\n",
        "  ##docs_y[x]\n",
        "  ## x = 0\n",
        "  ## docs_y[0] ==>> 'greeting'\n",
        "  ##labels.index('greetings')==>0\n",
        "  ## output_row [0] = 1\n",
        "\n",
        "  training.append(bag)\n",
        "  output.append(output_row)\n"
      ],
      "metadata": {
        "id": "vCi2vKOHzobJ"
      },
      "execution_count": null,
      "outputs": []
    },
    {
      "cell_type": "code",
      "source": [
        "print(f'Training : {training[0]}, Output: {output[0]}')"
      ],
      "metadata": {
        "colab": {
          "base_uri": "https://localhost:8080/"
        },
        "id": "NuyG98_yOD3J",
        "outputId": "e65c3f73-b443-47b0-8d88-6f1865f0693f"
      },
      "execution_count": null,
      "outputs": [
        {
          "output_type": "stream",
          "name": "stdout",
          "text": [
            "Training : [0, 0, 0, 0, 0, 0, 0, 0, 0, 0, 0, 0, 0, 0, 0, 0, 0, 0, 0, 0, 0, 0, 0, 0, 0, 0, 0, 0, 0, 0, 0, 0, 0, 0, 0, 0, 0, 0, 0, 0, 0, 0, 0, 0, 0, 0, 0, 0, 0, 0, 0, 0, 0, 0, 0, 0, 0, 0, 0, 0, 0, 0, 0, 0, 0, 0, 0, 0, 0, 0, 0, 0, 0, 0, 0, 0, 0, 0, 0, 0, 0, 0, 0, 0, 0, 0, 0, 0, 0, 0, 0, 0, 0, 0, 0, 0, 0, 0, 0, 0, 0, 0, 0, 0, 0, 0, 0, 0], Output: [0, 0, 0, 0, 0, 1, 0, 0, 0, 0, 0, 0]\n"
          ]
        }
      ]
    },
    {
      "cell_type": "code",
      "source": [
        "training = numpy.array(training)\n",
        "output = numpy.array(output)"
      ],
      "metadata": {
        "id": "9qPAHLwSzoey"
      },
      "execution_count": null,
      "outputs": []
    },
    {
      "cell_type": "code",
      "source": [
        "\n",
        "tensorflow.compat.v1.reset_default_graph()\n",
        "\n",
        "net = tflearn.input_data(shape=[None, len(training[0])])\n",
        "net = tflearn.fully_connected(net, 7)\n",
        "net = tflearn.fully_connected(net, 7)\n",
        "net = tflearn.fully_connected(net, len(output[0]), activation=\"softmax\")\n",
        "net = tflearn.regression(net)"
      ],
      "metadata": {
        "id": "A8zP2_Kbzogc"
      },
      "execution_count": null,
      "outputs": []
    },
    {
      "cell_type": "code",
      "source": [
        "model = tflearn.DNN(net)\n",
        "model.fit(training, output, n_epoch=1000, batch_size=8, show_metric=True)\n",
        "# model.save(\"model.tflearn\")"
      ],
      "metadata": {
        "colab": {
          "base_uri": "https://localhost:8080/"
        },
        "id": "97psCMJazokh",
        "outputId": "215ca425-0f42-46f7-f1ad-d222b6c83a02"
      },
      "execution_count": null,
      "outputs": [
        {
          "output_type": "stream",
          "name": "stdout",
          "text": [
            "Training Step: 4999  | total loss: \u001b[1m\u001b[32m0.56538\u001b[0m\u001b[0m | time: 0.024s\n",
            "| Adam | epoch: 1000 | loss: 0.56538 - acc: 0.7632 -- iter: 32/40\n",
            "Training Step: 5000  | total loss: \u001b[1m\u001b[32m0.51580\u001b[0m\u001b[0m | time: 0.029s\n",
            "| Adam | epoch: 1000 | loss: 0.51580 - acc: 0.7869 -- iter: 40/40\n",
            "--\n"
          ]
        }
      ]
    },
    {
      "cell_type": "code",
      "source": [
        "def bag_of_words(s, words):\n",
        "    bag = [0 for _ in range(len(words))]\n",
        "\n",
        "    s_words = nltk.word_tokenize(s)\n",
        "    s_words = [stemmer.stem(word.lower()) for word in s_words]\n",
        "\n",
        "    for se in s_words:\n",
        "        for i, w in enumerate(words):\n",
        "            if w == se:\n",
        "                bag[i] = 1\n",
        "            \n",
        "    return numpy.array(bag)"
      ],
      "metadata": {
        "id": "6AihXovnzomF"
      },
      "execution_count": null,
      "outputs": []
    },
    {
      "cell_type": "code",
      "source": [
        "def chat():\n",
        "    print(\"Start talking with the bot (type quit to stop)!\")\n",
        "    while True:\n",
        "        inp = input(\"You: \")\n",
        "        if inp.lower() == \"quit\":\n",
        "            break\n",
        "\n",
        "        results = model.predict([bag_of_words(inp, words)])\n",
        "        print(results)\n",
        "        results_index = numpy.argmax(results)\n",
        "        print(results_index)\n",
        "        tag = labels[results_index]\n",
        "\n",
        "        for tg in data[\"intents\"]:\n",
        "            if tg['tag'] == tag:\n",
        "                responses = tg['responses']\n",
        "\n",
        "        print(random.choice(responses))"
      ],
      "metadata": {
        "id": "BwEBkrvdzon6"
      },
      "execution_count": null,
      "outputs": []
    },
    {
      "cell_type": "code",
      "source": [
        "chat()"
      ],
      "metadata": {
        "colab": {
          "base_uri": "https://localhost:8080/",
          "height": 651
        },
        "id": "iU7THNau9jxb",
        "outputId": "05500c34-57a5-427d-b3a6-aa6e59ed2ed9"
      },
      "execution_count": null,
      "outputs": [
        {
          "output_type": "stream",
          "name": "stdout",
          "text": [
            "Start talking with the bot (type quit to stop)!\n",
            "You: low storage\n",
            "[[0.00146511 0.09846774 0.00164057 0.00851209 0.19370766 0.22657378\n",
            "  0.00282161 0.00566605 0.00392465 0.20475638 0.16583636 0.08662791]]\n",
            "5\n",
            "Hello, thanks for visiting\n",
            "You: low strage\n",
            "[[0.00146511 0.09846774 0.00164057 0.00851209 0.19370766 0.22657378\n",
            "  0.00282161 0.00566605 0.00392465 0.20475638 0.16583636 0.08662791]]\n",
            "5\n",
            "when in doubt ask tech support\n",
            "You: low storage\n",
            "[[0.00146511 0.09846774 0.00164057 0.00851209 0.19370766 0.22657378\n",
            "  0.00282161 0.00566605 0.00392465 0.20475638 0.16583636 0.08662791]]\n",
            "5\n",
            "Hi there, how can I help?\n",
            "You: i want to free up storage\n",
            "[[1.2406580e-02 9.6453422e-01 1.3558452e-03 6.5163765e-03 1.1837279e-03\n",
            "  2.2923475e-04 7.7993609e-03 1.2790760e-03 6.2567888e-05 9.3814294e-04\n",
            "  9.8341246e-05 3.5966090e-03]]\n",
            "1\n"
          ]
        },
        {
          "output_type": "error",
          "ename": "KeyError",
          "evalue": "ignored",
          "traceback": [
            "\u001b[0;31m---------------------------------------------------------------------------\u001b[0m",
            "\u001b[0;31mKeyError\u001b[0m                                  Traceback (most recent call last)",
            "\u001b[0;32m<ipython-input-66-e57ee30c65ef>\u001b[0m in \u001b[0;36m<module>\u001b[0;34m()\u001b[0m\n\u001b[0;32m----> 1\u001b[0;31m \u001b[0mchat\u001b[0m\u001b[0;34m(\u001b[0m\u001b[0;34m)\u001b[0m\u001b[0;34m\u001b[0m\u001b[0;34m\u001b[0m\u001b[0m\n\u001b[0m",
            "\u001b[0;32m<ipython-input-63-c6922bcc5849>\u001b[0m in \u001b[0;36mchat\u001b[0;34m()\u001b[0m\n\u001b[1;32m     14\u001b[0m         \u001b[0;32mfor\u001b[0m \u001b[0mtg\u001b[0m \u001b[0;32min\u001b[0m \u001b[0mdata\u001b[0m\u001b[0;34m[\u001b[0m\u001b[0;34m\"intents\"\u001b[0m\u001b[0;34m]\u001b[0m\u001b[0;34m:\u001b[0m\u001b[0;34m\u001b[0m\u001b[0;34m\u001b[0m\u001b[0m\n\u001b[1;32m     15\u001b[0m             \u001b[0;32mif\u001b[0m \u001b[0mtg\u001b[0m\u001b[0;34m[\u001b[0m\u001b[0;34m'tag'\u001b[0m\u001b[0;34m]\u001b[0m \u001b[0;34m==\u001b[0m \u001b[0mtag\u001b[0m\u001b[0;34m:\u001b[0m\u001b[0;34m\u001b[0m\u001b[0;34m\u001b[0m\u001b[0m\n\u001b[0;32m---> 16\u001b[0;31m                 \u001b[0mresponses\u001b[0m \u001b[0;34m=\u001b[0m \u001b[0mtg\u001b[0m\u001b[0;34m[\u001b[0m\u001b[0;34m'responses'\u001b[0m\u001b[0;34m]\u001b[0m\u001b[0;34m\u001b[0m\u001b[0;34m\u001b[0m\u001b[0m\n\u001b[0m\u001b[1;32m     17\u001b[0m \u001b[0;34m\u001b[0m\u001b[0m\n\u001b[1;32m     18\u001b[0m         \u001b[0mprint\u001b[0m\u001b[0;34m(\u001b[0m\u001b[0mrandom\u001b[0m\u001b[0;34m.\u001b[0m\u001b[0mchoice\u001b[0m\u001b[0;34m(\u001b[0m\u001b[0mresponses\u001b[0m\u001b[0;34m)\u001b[0m\u001b[0;34m)\u001b[0m\u001b[0;34m\u001b[0m\u001b[0;34m\u001b[0m\u001b[0m\n",
            "\u001b[0;31mKeyError\u001b[0m: 'responses'"
          ]
        }
      ]
    },
    {
      "cell_type": "code",
      "source": [],
      "metadata": {
        "id": "TwWH1xKj9pqj"
      },
      "execution_count": null,
      "outputs": []
    },
    {
      "cell_type": "code",
      "source": [],
      "metadata": {
        "id": "Ymy9siSozovp"
      },
      "execution_count": null,
      "outputs": []
    },
    {
      "cell_type": "code",
      "source": [],
      "metadata": {
        "id": "DjOIMhSizo08"
      },
      "execution_count": null,
      "outputs": []
    },
    {
      "cell_type": "code",
      "source": [],
      "metadata": {
        "id": "bZWAMIAfzE7p"
      },
      "execution_count": null,
      "outputs": []
    }
  ]
}